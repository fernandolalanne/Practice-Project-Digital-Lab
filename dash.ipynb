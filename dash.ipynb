{
 "cells": [
  {
   "cell_type": "markdown",
   "metadata": {},
   "source": [
    "Removing Bulgaria, Greece and Norway, keeping ['Belgium', 'Finland', 'Italy', 'France', 'Germany']"
   ]
  },
  {
   "cell_type": "code",
   "execution_count": 22,
   "metadata": {},
   "outputs": [
    {
     "name": "stderr",
     "output_type": "stream",
     "text": [
      "/home/celine/anaconda3/envs/ml/lib/python3.10/site-packages/plotly/express/_core.py:2065: FutureWarning:\n",
      "\n",
      "When grouping with a length-1 list-like, you will need to pass a length-1 tuple to get_group in a future version of pandas. Pass `(name,)` instead of `name` to silence this warning.\n",
      "\n",
      "/home/celine/anaconda3/envs/ml/lib/python3.10/site-packages/plotly/express/_core.py:2065: FutureWarning:\n",
      "\n",
      "When grouping with a length-1 list-like, you will need to pass a length-1 tuple to get_group in a future version of pandas. Pass `(name,)` instead of `name` to silence this warning.\n",
      "\n"
     ]
    },
    {
     "data": {
      "text/html": [
       "\n",
       "        <iframe\n",
       "            width=\"100%\"\n",
       "            height=\"650\"\n",
       "            src=\"http://127.0.0.1:8050/\"\n",
       "            frameborder=\"0\"\n",
       "            allowfullscreen\n",
       "            \n",
       "        ></iframe>\n",
       "        "
      ],
      "text/plain": [
       "<IPython.lib.display.IFrame at 0x7f1ad85b9c90>"
      ]
     },
     "metadata": {},
     "output_type": "display_data"
    }
   ],
   "source": [
    "import dash\n",
    "from dash import dcc, html\n",
    "import plotly.express as px\n",
    "import pandas as pd\n",
    "\n",
    "# Read your CSV file containing the merged dataframe\n",
    "df = pd.read_csv('df_covid_HICP.csv')\n",
    "\n",
    "# Calculate the average stringency index over time\n",
    "avg_stringency_index = df.groupby('date')['stringency_index'].mean().reset_index()\n",
    "\n",
    "# Initialize the Dash app\n",
    "app = dash.Dash(__name__)\n",
    "\n",
    "# Define the layout of the dashboard\n",
    "app.layout = html.Div(children=[\n",
    "    html.H1(children='COVID-Economy Dashboard'),\n",
    "    \n",
    "    # Line chart showing the trend of HICP over time\n",
    "    dcc.Graph(\n",
    "        id='hicp-trend',\n",
    "        figure=px.line(df, x='date', y='HICP', color='location', title='HICP Trend Over Time')\n",
    "        .update_traces(line=dict(color='black'), selector=dict(name='avg_stringency_index'))\n",
    "    ),\n",
    "    \n",
    "    # Scatter plot showing the relationship between total deaths and stringency index\n",
    "    dcc.Graph(\n",
    "        id='total-deaths-vs-stringency',\n",
    "        figure=px.scatter(df, x='total_deaths', y='HICP', color='location', title='Total Deaths vs HICP')\n",
    "    ),\n",
    "    \n",
    "])\n",
    "\n",
    "# Run the app\n",
    "if __name__ == '__main__':\n",
    "    app.run_server(debug=True)\n"
   ]
  },
  {
   "cell_type": "markdown",
   "metadata": {},
   "source": [
    "Blackline on first figure does not work\n",
    "We should check this but for before the war in Ukraine to see if we see a correlation"
   ]
  },
  {
   "cell_type": "code",
   "execution_count": 1,
   "metadata": {},
   "outputs": [
    {
     "name": "stderr",
     "output_type": "stream",
     "text": [
      "/home/celine/anaconda3/envs/ml/lib/python3.10/site-packages/plotly/express/_core.py:2065: FutureWarning:\n",
      "\n",
      "When grouping with a length-1 list-like, you will need to pass a length-1 tuple to get_group in a future version of pandas. Pass `(name,)` instead of `name` to silence this warning.\n",
      "\n",
      "/home/celine/anaconda3/envs/ml/lib/python3.10/site-packages/plotly/express/_core.py:2065: FutureWarning:\n",
      "\n",
      "When grouping with a length-1 list-like, you will need to pass a length-1 tuple to get_group in a future version of pandas. Pass `(name,)` instead of `name` to silence this warning.\n",
      "\n"
     ]
    },
    {
     "data": {
      "text/html": [
       "\n",
       "        <iframe\n",
       "            width=\"100%\"\n",
       "            height=\"650\"\n",
       "            src=\"http://127.0.0.1:8050/\"\n",
       "            frameborder=\"0\"\n",
       "            allowfullscreen\n",
       "            \n",
       "        ></iframe>\n",
       "        "
      ],
      "text/plain": [
       "<IPython.lib.display.IFrame at 0x7f2f5c0deb60>"
      ]
     },
     "metadata": {},
     "output_type": "display_data"
    }
   ],
   "source": [
    "import dash\n",
    "from dash import dcc, html\n",
    "import plotly.express as px\n",
    "import pandas as pd\n",
    "\n",
    "# Read your CSV file containing the merged dataframe\n",
    "df = pd.read_csv('df_covid_HICP.csv')\n",
    "\n",
    "# Calculate the average stringency index over time\n",
    "avg_stringency_index = df.groupby('date')['stringency_index'].mean().reset_index()\n",
    "\n",
    "# Scale down the values of the stringency index to match the range of HICP values\n",
    "max_hicp = df['HICP'].max()\n",
    "avg_stringency_index['scaled_stringency_index'] = avg_stringency_index['stringency_index'] * (max_hicp / avg_stringency_index['stringency_index'].max())\n",
    "\n",
    "# Initialize the Dash app\n",
    "app = dash.Dash(__name__)\n",
    "\n",
    "# Define the layout of the dashboard\n",
    "app.layout = html.Div(children=[\n",
    "    html.H1(children='COVID-Economy Dashboard'),\n",
    "    \n",
    "    # Line chart showing the trend of HICP over time\n",
    "    dcc.Graph(\n",
    "        id='hicp-trend',\n",
    "        figure=px.line(df, x='date', y='HICP', color='location', title='HICP Trend Over Time')\n",
    "        .add_scatter(x=avg_stringency_index['date'], y=avg_stringency_index['scaled_stringency_index'], mode='lines', name='Average Stringency Index', line=dict(color='black'))\n",
    "    ),\n",
    "    \n",
    "    # Scatter plot showing the relationship between total deaths and stringency index\n",
    "    dcc.Graph(\n",
    "        id='total-deaths-vs-stringency',\n",
    "        figure=px.scatter(df, x='total_deaths', y='HICP', color='location', title='Total Deaths vs HICP')\n",
    "    ),\n",
    "    \n",
    "])\n",
    "\n",
    "# Run the app\n",
    "if __name__ == '__main__':\n",
    "    app.run_server(debug=True)\n"
   ]
  },
  {
   "cell_type": "code",
   "execution_count": 13,
   "metadata": {},
   "outputs": [
    {
     "data": {
      "text/plain": [
       "\"\\nimport dash\\nfrom dash import dcc, html\\nimport plotly.express as px\\nimport pandas as pd\\nimport numpy as np\\n\\n\\ndf = pd.read_csv('df_covid_HICP.csv')\\n\\n# Create some sample data for demonstration\\ndata = {\\n    'date': pd.date_range(start='2020-01-01', periods=100, freq='M'),\\n    'HICP': np.random.randn(100),\\n    'location': np.random.choice(['France', 'Germany', 'Italy'], 100),\\n    'iso_code': np.random.choice(['FRA', 'DEU', 'ITA'], 100),\\n    'total_deaths': np.random.randint(0, 1000, 100),\\n    'stringency_index': np.random.rand(100),\\n    'total_cases_per_million': np.random.randint(0, 100000, 100),\\n    'human_development_index': np.random.rand(100)\\n}\\ndf = pd.DataFrame(data)\\n\\n# Initialize the Dash app\\napp = dash.Dash(__name__)\\n\\n# Define the layout of the dashboard\\napp.layout = html.Div(children=[\\n    html.H1(children='COVID-Economy Dashboard'),\\n    \\n    # Line chart showing the trend of HICP over time\\n    dcc.Graph(\\n        id='hicp-trend',\\n        figure=px.line(df, x='date', y='HICP', color='location', title='HICP Trend Over Time')\\n    ),\\n    \\n    # Scatter plot showing the relationship between total deaths and stringency index\\n    dcc.Graph(\\n        id='total-deaths-vs-stringency',\\n        figure=px.scatter(df, x='total_deaths', y='HICP', color='location', title='Total Deaths vs HICP')\\n    ),\\n    \\n])\\n\\n# Run the app\\nif __name__ == '__main__':\\n    app.run_server(debug=True)\\n\""
      ]
     },
     "execution_count": 13,
     "metadata": {},
     "output_type": "execute_result"
    }
   ],
   "source": [
    "'''\n",
    "import dash\n",
    "from dash import dcc, html\n",
    "import plotly.express as px\n",
    "import pandas as pd\n",
    "import numpy as np\n",
    "\n",
    "\n",
    "df = pd.read_csv('df_covid_HICP.csv')\n",
    "\n",
    "# Create some sample data for demonstration\n",
    "data = {\n",
    "    'date': pd.date_range(start='2020-01-01', periods=100, freq='M'),\n",
    "    'HICP': np.random.randn(100),\n",
    "    'location': np.random.choice(['France', 'Germany', 'Italy'], 100),\n",
    "    'iso_code': np.random.choice(['FRA', 'DEU', 'ITA'], 100),\n",
    "    'total_deaths': np.random.randint(0, 1000, 100),\n",
    "    'stringency_index': np.random.rand(100),\n",
    "    'total_cases_per_million': np.random.randint(0, 100000, 100),\n",
    "    'human_development_index': np.random.rand(100)\n",
    "}\n",
    "df = pd.DataFrame(data)\n",
    "\n",
    "# Initialize the Dash app\n",
    "app = dash.Dash(__name__)\n",
    "\n",
    "# Define the layout of the dashboard\n",
    "app.layout = html.Div(children=[\n",
    "    html.H1(children='COVID-Economy Dashboard'),\n",
    "    \n",
    "    # Line chart showing the trend of HICP over time\n",
    "    dcc.Graph(\n",
    "        id='hicp-trend',\n",
    "        figure=px.line(df, x='date', y='HICP', color='location', title='HICP Trend Over Time')\n",
    "    ),\n",
    "    \n",
    "    # Scatter plot showing the relationship between total deaths and stringency index\n",
    "    dcc.Graph(\n",
    "        id='total-deaths-vs-stringency',\n",
    "        figure=px.scatter(df, x='total_deaths', y='HICP', color='location', title='Total Deaths vs HICP')\n",
    "    ),\n",
    "    \n",
    "])\n",
    "\n",
    "# Run the app\n",
    "if __name__ == '__main__':\n",
    "    app.run_server(debug=True)\n",
    "'''\n"
   ]
  },
  {
   "cell_type": "code",
   "execution_count": 9,
   "metadata": {},
   "outputs": [
    {
     "data": {
      "text/plain": [
       "\"\\nimport pandas as pd\\nimport plotly.express as px\\nimport dash\\nfrom dash import html\\nfrom dash import dcc\\nfrom dash.dependencies import Input, Output\\n\\n\\nselected_locations = ['France', 'Germany', 'Italy', 'Belgium', 'Bulargia', 'Finland']\\n\\n# Create Dash app\\napp = dash.Dash(__name__)\\n\\n# Define the layout\\napp.layout = html.Div([\\n    dcc.Graph(id='indicator-trends'),\\n    dcc.Dropdown(\\n        id='location-dropdown',\\n        options=[{'label': location, 'value': location} for location in df['location'].unique()],\\n        value='France',  # Default value\\n        multi=True  # Allow multiple selections\\n    )\\n])\\n\\n# Define callback to update the graph based on dropdown selection\\n@app.callback(\\n    Output('indicator-trends', 'figure'),\\n    [Input('location-dropdown', 'value')]\\n)\\ndef update_graph(selected_locations):\\n    # Filter dataframe based on selected locations\\n    filtered_df = df[df['location'].isin(selected_locations)]\\n    \\n    # Create line plot using Plotly Express\\n    fig = px.line(filtered_df, x='date', y='HICP', color='location', title='Trends of HICP over Time')\\n    \\n    # Add COVID-related variables (total deaths and/or total cases per million) to the plot\\n    fig.add_scatter(x=filtered_df['date'], y=filtered_df['total_deaths'], mode='lines', name='Total Deaths')\\n    fig.add_scatter(x=filtered_df['date'], y=filtered_df['total_cases_per_million'], mode='lines', name='Total Cases per Million')\\n    \\n    return fig\\n\\n# Run the app\\nif __name__ == '__main__':\\n    app.run_server(debug=True)\\n\""
      ]
     },
     "execution_count": 9,
     "metadata": {},
     "output_type": "execute_result"
    }
   ],
   "source": [
    "'''\n",
    "import pandas as pd\n",
    "import plotly.express as px\n",
    "import dash\n",
    "from dash import html\n",
    "from dash import dcc\n",
    "from dash.dependencies import Input, Output\n",
    "\n",
    "\n",
    "selected_locations = ['France', 'Germany', 'Italy', 'Belgium', 'Bulargia', 'Finland']\n",
    "\n",
    "# Create Dash app\n",
    "app = dash.Dash(__name__)\n",
    "\n",
    "# Define the layout\n",
    "app.layout = html.Div([\n",
    "    dcc.Graph(id='indicator-trends'),\n",
    "    dcc.Dropdown(\n",
    "        id='location-dropdown',\n",
    "        options=[{'label': location, 'value': location} for location in df['location'].unique()],\n",
    "        value='France',  # Default value\n",
    "        multi=True  # Allow multiple selections\n",
    "    )\n",
    "])\n",
    "\n",
    "# Define callback to update the graph based on dropdown selection\n",
    "@app.callback(\n",
    "    Output('indicator-trends', 'figure'),\n",
    "    [Input('location-dropdown', 'value')]\n",
    ")\n",
    "def update_graph(selected_locations):\n",
    "    # Filter dataframe based on selected locations\n",
    "    filtered_df = df[df['location'].isin(selected_locations)]\n",
    "    \n",
    "    # Create line plot using Plotly Express\n",
    "    fig = px.line(filtered_df, x='date', y='HICP', color='location', title='Trends of HICP over Time')\n",
    "    \n",
    "    # Add COVID-related variables (total deaths and/or total cases per million) to the plot\n",
    "    fig.add_scatter(x=filtered_df['date'], y=filtered_df['total_deaths'], mode='lines', name='Total Deaths')\n",
    "    fig.add_scatter(x=filtered_df['date'], y=filtered_df['total_cases_per_million'], mode='lines', name='Total Cases per Million')\n",
    "    \n",
    "    return fig\n",
    "\n",
    "# Run the app\n",
    "if __name__ == '__main__':\n",
    "    app.run_server(debug=True)\n",
    "'''"
   ]
  },
  {
   "cell_type": "code",
   "execution_count": 10,
   "metadata": {},
   "outputs": [
    {
     "data": {
      "text/plain": [
       "\"\\nimport pandas as pd\\nimport plotly.express as px\\nimport dash\\nfrom dash import html\\nfrom dash import dcc\\nfrom dash.dependencies import Input, Output\\n\\n# Assume df contains the merged dataframe with economic and COVID-related variables\\n\\n# Create Dash app\\napp = dash.Dash(__name__)\\n\\n# Define the layout\\napp.layout = html.Div([\\n    dcc.Graph(id='indicator-trends'),\\n])\\n\\n# Define callback to update the graph based on dropdown selection\\n@app.callback(\\n    Output('indicator-trends', 'figure'),\\n    [Input('location-dropdown', 'value')]\\n)\\ndef update_graph(selected_locations):\\n    # Create line plot using Plotly Express\\n    fig = px.line(df, x='date', y='HICP', color='location', title='Trends of HICP over Time')\\n    \\n    # Add COVID-related variables (total deaths and/or total cases per million) to the plot\\n    fig.add_scatter(x=df['date'], y=df['total_deaths'], mode='lines', name='Total Deaths')\\n    fig.add_scatter(x=df['date'], y=df['total_cases_per_million'], mode='lines', name='Total Cases per Million')\\n    \\n    return fig\\n\\n# Run the app\\nif __name__ == '__main__':\\n    app.run_server(debug=True)\\n\""
      ]
     },
     "execution_count": 10,
     "metadata": {},
     "output_type": "execute_result"
    }
   ],
   "source": [
    "'''\n",
    "import pandas as pd\n",
    "import plotly.express as px\n",
    "import dash\n",
    "from dash import html\n",
    "from dash import dcc\n",
    "from dash.dependencies import Input, Output\n",
    "\n",
    "# Assume df contains the merged dataframe with economic and COVID-related variables\n",
    "\n",
    "# Create Dash app\n",
    "app = dash.Dash(__name__)\n",
    "\n",
    "# Define the layout\n",
    "app.layout = html.Div([\n",
    "    dcc.Graph(id='indicator-trends'),\n",
    "])\n",
    "\n",
    "# Define callback to update the graph based on dropdown selection\n",
    "@app.callback(\n",
    "    Output('indicator-trends', 'figure'),\n",
    "    [Input('location-dropdown', 'value')]\n",
    ")\n",
    "def update_graph(selected_locations):\n",
    "    # Create line plot using Plotly Express\n",
    "    fig = px.line(df, x='date', y='HICP', color='location', title='Trends of HICP over Time')\n",
    "    \n",
    "    # Add COVID-related variables (total deaths and/or total cases per million) to the plot\n",
    "    fig.add_scatter(x=df['date'], y=df['total_deaths'], mode='lines', name='Total Deaths')\n",
    "    fig.add_scatter(x=df['date'], y=df['total_cases_per_million'], mode='lines', name='Total Cases per Million')\n",
    "    \n",
    "    return fig\n",
    "\n",
    "# Run the app\n",
    "if __name__ == '__main__':\n",
    "    app.run_server(debug=True)\n",
    "'''"
   ]
  },
  {
   "cell_type": "code",
   "execution_count": null,
   "metadata": {},
   "outputs": [],
   "source": []
  }
 ],
 "metadata": {
  "kernelspec": {
   "display_name": "ml",
   "language": "python",
   "name": "python3"
  },
  "language_info": {
   "codemirror_mode": {
    "name": "ipython",
    "version": 3
   },
   "file_extension": ".py",
   "mimetype": "text/x-python",
   "name": "python",
   "nbconvert_exporter": "python",
   "pygments_lexer": "ipython3",
   "version": "3.10.0"
  }
 },
 "nbformat": 4,
 "nbformat_minor": 2
}
